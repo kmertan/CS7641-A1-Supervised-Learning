{
 "cells": [
  {
   "cell_type": "raw",
   "metadata": {},
   "source": [
    "# -*- coding: utf-8 -*-\n",
    "\"\"\"\n",
    "Created on Fri Jan 20 14:23:40 2017\n",
    "\n",
    "@author: JTay\n",
    "\"\"\"\n",
    "\n",
    "import numpy as np\n",
    "from sklearn.neural_network import MLPClassifier\n",
    "import sklearn.model_selection as ms\n",
    "import pandas as pd\n",
    "from helpers import  basicResults,makeTimingCurve,iterationLC\n",
    "from sklearn.pipeline import Pipeline\n",
    "from sklearn.preprocessing import StandardScaler\n",
    "from sklearn.ensemble import RandomForestClassifier\n",
    "from sklearn.feature_selection import SelectFromModel\n",
    "\n",
    "\n",
    "drug = pd.read_csv('./data/drug_consumption.data.txt')      \n",
    "col_names = ['id', 'age', 'gender', 'edu', 'country', 'ethnicity', 'nscore', 'escore', 'oscore', 'ascore', 'cscore', 'impulsive', 'ss', 'alc', 'amphet', 'amyl', 'benzo', 'caff', 'canna', 'choc', 'coke', 'crack', 'ecstasy', 'heroin', 'keta', 'legal', 'lsd', 'meth', 'shroom', 'nico', 'semer', 'vsa']\n",
    "drug.columns = col_names\n",
    "drug = drug.drop(['id', 'alc', 'amyl', 'benzo', 'caff', 'canna', 'choc', 'coke', 'crack', 'ecstasy', 'heroin', 'keta', 'legal', 'lsd', 'meth', 'shroom', 'nico', 'semer', 'vsa'], axis = 1)\n",
    "drug = pd.get_dummies(drug, columns = ['age', 'gender', 'country', 'ethnicity'], prefix = ['age', 'gender', 'country', 'ethnicity'])\n",
    "drug['amphet'] = np.where(drug['amphet'] == 'CL0', 'Never Used Amphetamines', 'Used Amphetamines')\n",
    "\n",
    "drugX = drug.drop('amphet', 1).copy().values\n",
    "drugY = drug['amphet'].copy().values\n",
    "\n",
    "\n",
    "#cancer = pd.read_csv('./data/cmc.data.txt')      \n",
    "#col_names_cancer = ['wifes_age', 'wifes_edu', 'husbs_edu', 'num_children_born', 'wifes_religion', 'wife_employed', 'husbs_occup', 'SOL_index', 'media_expose', 'cancer_method']\n",
    "#cancer.columns = col_names_cancer\n",
    "#cancer[col_names_cancer] = cancer[col_names_cancer].astype(np.int64)\n",
    "#cancer = pd.get_dummies(cancer, columns = ['husbs_occup'], prefix = 'husbs_occup')\n",
    "#\n",
    "#cancerX = cancer.drop('cancer_method',1).copy().values\n",
    "#cancerY = cancer['cancer_method'].copy().values\n",
    "\n",
    "cancer = pd.read_csv('./data/breast_cancer.csv')  \n",
    "cancer = pd.get_dummies(cancer, columns = ['class'], prefix = 'class')\n",
    "cancer['class'] = cancer['class_2.0']\n",
    "cancer.drop(['class_2.0', 'class_4.0'], axis = 1, inplace = True)\n",
    "cancer = cancer.astype(np.int64)\n",
    "\n",
    "cancerX = cancer.drop('class',1).copy().values\n",
    "cancerY = cancer['class'].copy().values\n",
    "\n",
    "drug_trgX, drug_tstX, drug_trgY, drug_tstY = ms.train_test_split(drugX, drugY, test_size=0.3, random_state=0,stratify=drugY)     \n",
    "cancer_trgX, cancer_tstX, cancer_trgY, cancer_tstY = ms.train_test_split(cancerX, cancerY, test_size=0.3, random_state=0,stratify=cancerY)     \n",
    "\n",
    "pipeD = Pipeline([('Scale',StandardScaler()),\n",
    "                 ('MLP',MLPClassifier(max_iter=2000,early_stopping=True,random_state=55))])\n",
    "pipeC = Pipeline([('Scale',StandardScaler()),\n",
    "                 ('MLP',MLPClassifier(max_iter=2000,early_stopping=True,random_state=55))])\n",
    "\n",
    "d = drugX.shape[1]\n",
    "hiddens_drug = [(h,)*l for l in [1,2,3] for h in [d,d//2,d*2]]\n",
    "\n",
    "d = cancerX.shape[1]\n",
    "hiddens_cancer = [(h,)*l for l in [1,2,3] for h in [d,d//2,d*2]]\n",
    "\n",
    "alphas = [10**-x for x in np.arange(-1,5.01,1/2)]\n",
    "\n",
    "params_drug = {'MLP__activation':['relu','logistic'],'MLP__alpha':alphas,'MLP__hidden_layer_sizes':hiddens_drug}\n",
    "params_cancer = {'MLP__activation':['relu','logistic'],'MLP__alpha':alphas,'MLP__hidden_layer_sizes':hiddens_cancer}\n",
    "\n",
    "drug_clf = basicResults(pipeD,drug_trgX,drug_trgY,drug_tstX,drug_tstY,params_drug,'ANN','drug')        \n",
    "cancer_clf = basicResults(pipeC,cancer_trgX,cancer_trgY,cancer_tstX,cancer_tstY,params_cancer,'ANN','cancer')        \n",
    "\n",
    "#cancer_final_params = {'MLP__hidden_layer_sizes': (500,), 'MLP__activation': 'logistic', 'MLP__alpha': 10.0}\n",
    "#drug_final_params ={'MLP__hidden_layer_sizes': (28, 28, 28), 'MLP__activation': 'logistic', 'MLP__alpha': 0.0031622776601683794}\n",
    "\n",
    "drug_final_params =drug_clf.best_params_\n",
    "drug_OF_params =drug_final_params.copy()\n",
    "drug_OF_params['MLP__alpha'] = 0\n",
    "\n",
    "cancer_final_params = cancer_clf.best_params_\n",
    "cancer_OF_params =cancer_final_params.copy()\n",
    "cancer_OF_params['MLP__alpha'] = 0\n",
    "\n",
    "#raise\n",
    "\n",
    "pipeC.set_params(**cancer_final_params)  \n",
    "pipeC.set_params(**{'MLP__early_stopping':False})                   \n",
    "makeTimingCurve(cancerX,cancerY,pipeC,'ANN','cancer')\n",
    "\n",
    "pipeD.set_params(**drug_final_params)\n",
    "pipeD.set_params(**{'MLP__early_stopping':False})                  \n",
    "makeTimingCurve(drugX,drugY,pipeD,'ANN','drug')\n",
    "\n",
    "\n",
    "pipeC.set_params(**cancer_final_params)\n",
    "pipeC.set_params(**{'MLP__early_stopping':False})               \n",
    "iterationLC(pipeC,cancer_trgX,cancer_trgY,cancer_tstX,cancer_tstY,{'MLP__max_iter':[2**x for x in range(12)]+[2100,2200,2300,2400,2500,2600,2700,2800,2900,3000]},'ANN','cancer')        \n",
    "\n",
    "pipeD.set_params(**drug_final_params)\n",
    "pipeD.set_params(**{'MLP__early_stopping':False})                  \n",
    "iterationLC(pipeD,drug_trgX,drug_trgY,drug_tstX,drug_tstY,{'MLP__max_iter':[2**x for x in range(12)]+[2100,2200,2300,2400,2500,2600,2700,2800,2900,3000]},'ANN','drug')                \n",
    "\n",
    "\n",
    "pipeC.set_params(**cancer_OF_params)\n",
    "pipeC.set_params(**{'MLP__early_stopping':False})                  \n",
    "iterationLC(pipeC,cancer_trgX,cancer_trgY,cancer_tstX,cancer_tstY,{'MLP__max_iter':[2**x for x in range(12)]+[2100,2200,2300,2400,2500,2600,2700,2800,2900,3000]},'ANN_OF','cancer')        \n",
    "\n",
    "pipeD.set_params(**drug_OF_params)\n",
    "pipeD.set_params(**{'MLP__early_stopping':False})               \n",
    "iterationLC(pipeD,drug_trgX,drug_trgY,drug_tstX,drug_tstY,{'MLP__max_iter':[2**x for x in range(12)]+[2100,2200,2300,2400,2500,2600,2700,2800,2900,3000]},'ANN_OF','drug')                "
   ]
  },
  {
   "cell_type": "code",
   "execution_count": 6,
   "metadata": {},
   "outputs": [
    {
     "data": {
      "text/plain": [
       "[(30,),\n",
       " (15,),\n",
       " (60,),\n",
       " (30, 30),\n",
       " (15, 15),\n",
       " (60, 60),\n",
       " (30, 30, 30),\n",
       " (15, 15, 15),\n",
       " (60, 60, 60)]"
      ]
     },
     "execution_count": 6,
     "metadata": {},
     "output_type": "execute_result"
    }
   ],
   "source": [
    "hiddens_adult"
   ]
  },
  {
   "cell_type": "code",
   "execution_count": 10,
   "metadata": {},
   "outputs": [
    {
     "name": "stdout",
     "output_type": "stream",
     "text": [
      "13\n",
      "1e-05\n",
      "10.0\n"
     ]
    }
   ],
   "source": [
    "print(len(alphas))\n",
    "print(min(alphas))\n",
    "print(max(alphas))"
   ]
  },
  {
   "cell_type": "code",
   "execution_count": 12,
   "metadata": {},
   "outputs": [
    {
     "data": {
      "text/plain": [
       "1    628\n",
       "3    511\n",
       "2    333\n",
       "Name: contra_method, dtype: int64"
      ]
     },
     "execution_count": 12,
     "metadata": {},
     "output_type": "execute_result"
    }
   ],
   "source": [
    "contra = pd.read_csv('./data/cmc.data.txt')      \n",
    "col_names_contra = ['wifes_age', 'wifes_edu', 'husbs_edu', 'num_children_born', 'wifes_religion', 'wife_employed', 'husbs_occup', 'SOL_index', 'media_expose', 'contra_method']\n",
    "contra.columns = col_names_contra\n",
    "contra[col_names_contra] = contra[col_names_contra].astype(np.int64)\n",
    "contra = pd.get_dummies(contra, columns = ['husbs_occup'], prefix = 'husbs_occup')\n",
    "\n",
    "contraX = contra.drop('contra_method',1).copy().values\n",
    "contraY = contra['contra_method'].copy().values\n",
    "\n",
    "#print(contra.head())\n",
    "contra.contra_method.value_counts()"
   ]
  },
  {
   "cell_type": "code",
   "execution_count": 4,
   "metadata": {},
   "outputs": [],
   "source": [
    "import pandas as pd\n",
    "import numpy as np"
   ]
  },
  {
   "cell_type": "code",
   "execution_count": 13,
   "metadata": {},
   "outputs": [
    {
     "data": {
      "text/plain": [
       "0.4266304347826087"
      ]
     },
     "execution_count": 13,
     "metadata": {},
     "output_type": "execute_result"
    }
   ],
   "source": [
    "628/(628 + 511 + 333)"
   ]
  },
  {
   "cell_type": "code",
   "execution_count": 14,
   "metadata": {},
   "outputs": [
    {
     "data": {
      "text/plain": [
       "1472"
      ]
     },
     "execution_count": 14,
     "metadata": {},
     "output_type": "execute_result"
    }
   ],
   "source": [
    "len(contra)"
   ]
  },
  {
   "cell_type": "code",
   "execution_count": 28,
   "metadata": {},
   "outputs": [
    {
     "data": {
      "text/plain": [
       "1    348\n",
       "0    206\n",
       "Name: class, dtype: int64"
      ]
     },
     "execution_count": 28,
     "metadata": {},
     "output_type": "execute_result"
    }
   ],
   "source": [
    "cancer = pd.read_csv('./data/breast_cancer.csv')  \n",
    "cancer = pd.get_dummies(cancer, columns = ['class'], prefix = 'class')\n",
    "cancer['class'] = cancer['class_2.0']\n",
    "cancer.drop(['class_2.0', 'class_4.0'], axis = 1, inplace = True)\n",
    "cancer = cancer.astype(np.int64)\n",
    "\n",
    "cancer.head()\n",
    "cancer['class'].value_counts()"
   ]
  },
  {
   "cell_type": "code",
   "execution_count": 30,
   "metadata": {},
   "outputs": [
    {
     "data": {
      "text/plain": [
       "0.628158844765343"
      ]
     },
     "execution_count": 30,
     "metadata": {},
     "output_type": "execute_result"
    }
   ],
   "source": [
    "348/(348+206)"
   ]
  },
  {
   "cell_type": "code",
   "execution_count": null,
   "metadata": {},
   "outputs": [],
   "source": []
  }
 ],
 "metadata": {
  "kernelspec": {
   "display_name": "Python 3",
   "language": "python",
   "name": "python3"
  },
  "language_info": {
   "codemirror_mode": {
    "name": "ipython",
    "version": 3
   },
   "file_extension": ".py",
   "mimetype": "text/x-python",
   "name": "python",
   "nbconvert_exporter": "python",
   "pygments_lexer": "ipython3",
   "version": "3.6.3"
  }
 },
 "nbformat": 4,
 "nbformat_minor": 2
}
